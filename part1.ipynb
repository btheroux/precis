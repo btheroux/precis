{
  "nbformat": 4,
  "nbformat_minor": 0,
  "metadata": {
    "colab": {
      "name": "part1.ipynb",
      "provenance": [],
      "collapsed_sections": []
    },
    "kernelspec": {
      "name": "python3",
      "display_name": "Python 3"
    },
    "language_info": {
      "name": "python"
    }
  },
  "cells": [
    {
      "cell_type": "markdown",
      "metadata": {
        "id": "w-dsfCtt_pQD"
      },
      "source": [
        "# Setup:"
      ]
    },
    {
      "cell_type": "code",
      "metadata": {
        "id": "BvYZL05zAv-z"
      },
      "source": [
        "#Importing necessary libraries\n",
        "import pandas as pd\n",
        "import io\n",
        "#import numpy as np in case of differing null values, such as 'missing'\n",
        "\n",
        "pd.set_option('display.max_columns', 20)\n",
        "pd.set_option('display.width', 500)"
      ],
      "execution_count": null,
      "outputs": []
    },
    {
      "cell_type": "markdown",
      "metadata": {
        "id": "ivv_kxkcAcX7"
      },
      "source": [
        "# Loading data into dataframe:"
      ]
    },
    {
      "cell_type": "code",
      "metadata": {
        "colab": {
          "resources": {
            "http://localhost:8080/nbextensions/google.colab/files.js": {
              "data": "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",
              "ok": true,
              "headers": [
                [
                  "content-type",
                  "application/javascript"
                ]
              ],
              "status": 200,
              "status_text": ""
            }
          },
          "base_uri": "https://localhost:8080/",
          "height": 143
        },
        "id": "3HPUyP9oip1k",
        "outputId": "30f50186-04d4-4339-9b2e-a537415407ab"
      },
      "source": [
        "from google.colab import files\n",
        "uploaded = files.upload()"
      ],
      "execution_count": null,
      "outputs": [
        {
          "output_type": "display_data",
          "data": {
            "text/html": [
              "\n",
              "     <input type=\"file\" id=\"files-ce866327-e718-467a-8c09-55db8228695e\" name=\"files[]\" multiple disabled\n",
              "        style=\"border:none\" />\n",
              "     <output id=\"result-ce866327-e718-467a-8c09-55db8228695e\">\n",
              "      Upload widget is only available when the cell has been executed in the\n",
              "      current browser session. Please rerun this cell to enable.\n",
              "      </output>\n",
              "      <script src=\"/nbextensions/google.colab/files.js\"></script> "
            ],
            "text/plain": [
              "<IPython.core.display.HTML object>"
            ]
          },
          "metadata": {
            "tags": []
          }
        },
        {
          "output_type": "stream",
          "text": [
            "Saving file_payments.csv to file_payments (1).csv\n",
            "Saving file_orders.csv to file_orders (1).csv\n",
            "Saving file_customers.csv to file_customers (3).csv\n"
          ],
          "name": "stdout"
        }
      ]
    },
    {
      "cell_type": "code",
      "metadata": {
        "colab": {
          "base_uri": "https://localhost:8080/",
          "height": 204
        },
        "id": "TGb97mTdjy00",
        "outputId": "12bc5b8c-3e96-4863-dd1f-1cd5386e54e3"
      },
      "source": [
        "customer = pd.read_csv(io.BytesIO(uploaded['file_customers.csv']))\n",
        "customer.head()"
      ],
      "execution_count": null,
      "outputs": [
        {
          "output_type": "execute_result",
          "data": {
            "text/html": [
              "<div>\n",
              "<style scoped>\n",
              "    .dataframe tbody tr th:only-of-type {\n",
              "        vertical-align: middle;\n",
              "    }\n",
              "\n",
              "    .dataframe tbody tr th {\n",
              "        vertical-align: top;\n",
              "    }\n",
              "\n",
              "    .dataframe thead th {\n",
              "        text-align: right;\n",
              "    }\n",
              "</style>\n",
              "<table border=\"1\" class=\"dataframe\">\n",
              "  <thead>\n",
              "    <tr style=\"text-align: right;\">\n",
              "      <th></th>\n",
              "      <th>customer_id</th>\n",
              "      <th>customer_city</th>\n",
              "      <th>channel</th>\n",
              "    </tr>\n",
              "  </thead>\n",
              "  <tbody>\n",
              "    <tr>\n",
              "      <th>0</th>\n",
              "      <td>c42188ecda96aa87f2f7ae67974093ab</td>\n",
              "      <td>Oslo</td>\n",
              "      <td>Google</td>\n",
              "    </tr>\n",
              "    <tr>\n",
              "      <th>1</th>\n",
              "      <td>b34f8bf1893070905ec951cad8dc1865</td>\n",
              "      <td>Oslo</td>\n",
              "      <td>Google</td>\n",
              "    </tr>\n",
              "    <tr>\n",
              "      <th>2</th>\n",
              "      <td>df3be1c92fa27cda84caa922db80c785</td>\n",
              "      <td>Oslo</td>\n",
              "      <td>Google</td>\n",
              "    </tr>\n",
              "    <tr>\n",
              "      <th>3</th>\n",
              "      <td>acfcdc1935acea5eecac434820116ce3</td>\n",
              "      <td>Oslo</td>\n",
              "      <td>Google</td>\n",
              "    </tr>\n",
              "    <tr>\n",
              "      <th>4</th>\n",
              "      <td>5a20ca69160161786b074d55001ca9b7</td>\n",
              "      <td>Oslo</td>\n",
              "      <td>Google</td>\n",
              "    </tr>\n",
              "  </tbody>\n",
              "</table>\n",
              "</div>"
            ],
            "text/plain": [
              "                        customer_id customer_city channel\n",
              "0  c42188ecda96aa87f2f7ae67974093ab          Oslo  Google\n",
              "1  b34f8bf1893070905ec951cad8dc1865          Oslo  Google\n",
              "2  df3be1c92fa27cda84caa922db80c785          Oslo  Google\n",
              "3  acfcdc1935acea5eecac434820116ce3          Oslo  Google\n",
              "4  5a20ca69160161786b074d55001ca9b7          Oslo  Google"
            ]
          },
          "metadata": {
            "tags": []
          },
          "execution_count": 280
        }
      ]
    },
    {
      "cell_type": "code",
      "metadata": {
        "colab": {
          "base_uri": "https://localhost:8080/",
          "height": 479
        },
        "id": "R9PblVWbkkdg",
        "outputId": "41906cd6-eb16-4707-b257-9fea829c85b9"
      },
      "source": [
        "order = pd.read_csv(io.BytesIO(uploaded['file_orders.csv']))\n",
        "order.head()"
      ],
      "execution_count": null,
      "outputs": [
        {
          "output_type": "execute_result",
          "data": {
            "text/html": [
              "<div>\n",
              "<style scoped>\n",
              "    .dataframe tbody tr th:only-of-type {\n",
              "        vertical-align: middle;\n",
              "    }\n",
              "\n",
              "    .dataframe tbody tr th {\n",
              "        vertical-align: top;\n",
              "    }\n",
              "\n",
              "    .dataframe thead th {\n",
              "        text-align: right;\n",
              "    }\n",
              "</style>\n",
              "<table border=\"1\" class=\"dataframe\">\n",
              "  <thead>\n",
              "    <tr style=\"text-align: right;\">\n",
              "      <th></th>\n",
              "      <th>order_id</th>\n",
              "      <th>customer_id</th>\n",
              "      <th>order_status</th>\n",
              "      <th>order_purchase_timestamp</th>\n",
              "      <th>order_approved_at</th>\n",
              "      <th>order_delivered_carrier_date</th>\n",
              "      <th>order_item_id</th>\n",
              "      <th>product_id</th>\n",
              "      <th>seller_id</th>\n",
              "      <th>price</th>\n",
              "      <th>freight_value</th>\n",
              "      <th>currency</th>\n",
              "      <th>product_category_name</th>\n",
              "      <th>product_name_lenght</th>\n",
              "      <th>product_description_lenght</th>\n",
              "      <th>product_photos_qty</th>\n",
              "      <th>product_weight_g</th>\n",
              "      <th>product_length_cm</th>\n",
              "      <th>product_height_cm</th>\n",
              "      <th>product_width_cm</th>\n",
              "    </tr>\n",
              "  </thead>\n",
              "  <tbody>\n",
              "    <tr>\n",
              "      <th>0</th>\n",
              "      <td>6c12bdc5-cb46-4b14-9834-340f9849043c</td>\n",
              "      <td>cb0dfa91ea2f9acab7316baf7708e621</td>\n",
              "      <td>delivered</td>\n",
              "      <td>2018-02-16 15:31:43 UTC</td>\n",
              "      <td>2018-02-20 07:27:11 UTC</td>\n",
              "      <td>2018-02-22 17:53:56 UTC</td>\n",
              "      <td>1</td>\n",
              "      <td>08574b074924071f4e201e151b152b4e</td>\n",
              "      <td>001cca7ae9ae17fb1caed9dfb1094831</td>\n",
              "      <td>1616.0</td>\n",
              "      <td>82.20</td>\n",
              "      <td>SEK</td>\n",
              "      <td>garden_tools</td>\n",
              "      <td>36.0</td>\n",
              "      <td>450.0</td>\n",
              "      <td>1.0</td>\n",
              "      <td>9000.0</td>\n",
              "      <td>42.0</td>\n",
              "      <td>12.0</td>\n",
              "      <td>39.0</td>\n",
              "    </tr>\n",
              "    <tr>\n",
              "      <th>1</th>\n",
              "      <td>5b2bbb35-1db5-48bd-80e1-06282c82b26b</td>\n",
              "      <td>782da07dd1b66f0a3ece989a671ecb8c</td>\n",
              "      <td>delivered</td>\n",
              "      <td>2018-01-15 13:38:02 UTC</td>\n",
              "      <td>2018-01-15 13:49:58 UTC</td>\n",
              "      <td>2018-01-17 22:21:25 UTC</td>\n",
              "      <td>1</td>\n",
              "      <td>08574b074924071f4e201e151b152b4e</td>\n",
              "      <td>001cca7ae9ae17fb1caed9dfb1094831</td>\n",
              "      <td>1584.0</td>\n",
              "      <td>66.16</td>\n",
              "      <td>SEK</td>\n",
              "      <td>garden_tools</td>\n",
              "      <td>36.0</td>\n",
              "      <td>450.0</td>\n",
              "      <td>1.0</td>\n",
              "      <td>9000.0</td>\n",
              "      <td>42.0</td>\n",
              "      <td>12.0</td>\n",
              "      <td>39.0</td>\n",
              "    </tr>\n",
              "    <tr>\n",
              "      <th>2</th>\n",
              "      <td>46a05b5e-98d4-46df-a039-b5df4d9606c9</td>\n",
              "      <td>e2157bd7eb4af4b0cb8cc0fd2ef04bb0</td>\n",
              "      <td>delivered</td>\n",
              "      <td>2018-01-12 13:50:31 UTC</td>\n",
              "      <td>2018-01-12 14:08:36 UTC</td>\n",
              "      <td>2018-01-15 22:21:46 UTC</td>\n",
              "      <td>1</td>\n",
              "      <td>08574b074924071f4e201e151b152b4e</td>\n",
              "      <td>001cca7ae9ae17fb1caed9dfb1094831</td>\n",
              "      <td>1584.0</td>\n",
              "      <td>91.98</td>\n",
              "      <td>SEK</td>\n",
              "      <td>garden_tools</td>\n",
              "      <td>36.0</td>\n",
              "      <td>450.0</td>\n",
              "      <td>1.0</td>\n",
              "      <td>9000.0</td>\n",
              "      <td>42.0</td>\n",
              "      <td>12.0</td>\n",
              "      <td>39.0</td>\n",
              "    </tr>\n",
              "    <tr>\n",
              "      <th>3</th>\n",
              "      <td>0fd7624d-0b76-4814-b209-5201d8efa4da</td>\n",
              "      <td>39fd6d063a9335b98a5045cada7081dc</td>\n",
              "      <td>delivered</td>\n",
              "      <td>2018-02-08 21:14:22 UTC</td>\n",
              "      <td>2018-02-08 21:28:11 UTC</td>\n",
              "      <td>2018-02-14 21:45:16 UTC</td>\n",
              "      <td>1</td>\n",
              "      <td>08574b074924071f4e201e151b152b4e</td>\n",
              "      <td>001cca7ae9ae17fb1caed9dfb1094831</td>\n",
              "      <td>1616.0</td>\n",
              "      <td>92.02</td>\n",
              "      <td>SEK</td>\n",
              "      <td>garden_tools</td>\n",
              "      <td>36.0</td>\n",
              "      <td>450.0</td>\n",
              "      <td>1.0</td>\n",
              "      <td>9000.0</td>\n",
              "      <td>42.0</td>\n",
              "      <td>12.0</td>\n",
              "      <td>39.0</td>\n",
              "    </tr>\n",
              "    <tr>\n",
              "      <th>4</th>\n",
              "      <td>7e48fc78-d6fc-4a48-86df-b273f9fb5c9b</td>\n",
              "      <td>9e65cbbe0b4f517550e04293b56818af</td>\n",
              "      <td>delivered</td>\n",
              "      <td>2018-03-13 10:27:41 UTC</td>\n",
              "      <td>2018-03-13 10:47:53 UTC</td>\n",
              "      <td>2018-03-14 17:12:23 UTC</td>\n",
              "      <td>1</td>\n",
              "      <td>08574b074924071f4e201e151b152b4e</td>\n",
              "      <td>001cca7ae9ae17fb1caed9dfb1094831</td>\n",
              "      <td>1616.0</td>\n",
              "      <td>134.04</td>\n",
              "      <td>SEK</td>\n",
              "      <td>garden_tools</td>\n",
              "      <td>36.0</td>\n",
              "      <td>450.0</td>\n",
              "      <td>1.0</td>\n",
              "      <td>9000.0</td>\n",
              "      <td>42.0</td>\n",
              "      <td>12.0</td>\n",
              "      <td>39.0</td>\n",
              "    </tr>\n",
              "  </tbody>\n",
              "</table>\n",
              "</div>"
            ],
            "text/plain": [
              "                               order_id                       customer_id order_status order_purchase_timestamp        order_approved_at order_delivered_carrier_date  order_item_id                        product_id                         seller_id   price  freight_value currency product_category_name  product_name_lenght  product_description_lenght  product_photos_qty  product_weight_g  product_length_cm  product_height_cm  product_width_cm\n",
              "0  6c12bdc5-cb46-4b14-9834-340f9849043c  cb0dfa91ea2f9acab7316baf7708e621    delivered  2018-02-16 15:31:43 UTC  2018-02-20 07:27:11 UTC      2018-02-22 17:53:56 UTC              1  08574b074924071f4e201e151b152b4e  001cca7ae9ae17fb1caed9dfb1094831  1616.0          82.20      SEK          garden_tools                 36.0                       450.0                 1.0            9000.0               42.0               12.0              39.0\n",
              "1  5b2bbb35-1db5-48bd-80e1-06282c82b26b  782da07dd1b66f0a3ece989a671ecb8c    delivered  2018-01-15 13:38:02 UTC  2018-01-15 13:49:58 UTC      2018-01-17 22:21:25 UTC              1  08574b074924071f4e201e151b152b4e  001cca7ae9ae17fb1caed9dfb1094831  1584.0          66.16      SEK          garden_tools                 36.0                       450.0                 1.0            9000.0               42.0               12.0              39.0\n",
              "2  46a05b5e-98d4-46df-a039-b5df4d9606c9  e2157bd7eb4af4b0cb8cc0fd2ef04bb0    delivered  2018-01-12 13:50:31 UTC  2018-01-12 14:08:36 UTC      2018-01-15 22:21:46 UTC              1  08574b074924071f4e201e151b152b4e  001cca7ae9ae17fb1caed9dfb1094831  1584.0          91.98      SEK          garden_tools                 36.0                       450.0                 1.0            9000.0               42.0               12.0              39.0\n",
              "3  0fd7624d-0b76-4814-b209-5201d8efa4da  39fd6d063a9335b98a5045cada7081dc    delivered  2018-02-08 21:14:22 UTC  2018-02-08 21:28:11 UTC      2018-02-14 21:45:16 UTC              1  08574b074924071f4e201e151b152b4e  001cca7ae9ae17fb1caed9dfb1094831  1616.0          92.02      SEK          garden_tools                 36.0                       450.0                 1.0            9000.0               42.0               12.0              39.0\n",
              "4  7e48fc78-d6fc-4a48-86df-b273f9fb5c9b  9e65cbbe0b4f517550e04293b56818af    delivered  2018-03-13 10:27:41 UTC  2018-03-13 10:47:53 UTC      2018-03-14 17:12:23 UTC              1  08574b074924071f4e201e151b152b4e  001cca7ae9ae17fb1caed9dfb1094831  1616.0         134.04      SEK          garden_tools                 36.0                       450.0                 1.0            9000.0               42.0               12.0              39.0"
            ]
          },
          "metadata": {
            "tags": []
          },
          "execution_count": 297
        }
      ]
    },
    {
      "cell_type": "code",
      "metadata": {
        "colab": {
          "base_uri": "https://localhost:8080/",
          "height": 204
        },
        "id": "78UFHvAKmVXX",
        "outputId": "c928a687-6f16-42fe-fe33-c1072f6b4b90"
      },
      "source": [
        "payment = pd.read_csv(io.BytesIO(uploaded['file_payments.csv']))\n",
        "payment.head()"
      ],
      "execution_count": null,
      "outputs": [
        {
          "output_type": "execute_result",
          "data": {
            "text/html": [
              "<div>\n",
              "<style scoped>\n",
              "    .dataframe tbody tr th:only-of-type {\n",
              "        vertical-align: middle;\n",
              "    }\n",
              "\n",
              "    .dataframe tbody tr th {\n",
              "        vertical-align: top;\n",
              "    }\n",
              "\n",
              "    .dataframe thead th {\n",
              "        text-align: right;\n",
              "    }\n",
              "</style>\n",
              "<table border=\"1\" class=\"dataframe\">\n",
              "  <thead>\n",
              "    <tr style=\"text-align: right;\">\n",
              "      <th></th>\n",
              "      <th>order_id</th>\n",
              "      <th>payment_value</th>\n",
              "      <th>currency</th>\n",
              "      <th>payment_types</th>\n",
              "      <th>payment_method</th>\n",
              "    </tr>\n",
              "  </thead>\n",
              "  <tbody>\n",
              "    <tr>\n",
              "      <th>0</th>\n",
              "      <td>a4431cbd79dbddaae7988ce6091cbc3c</td>\n",
              "      <td>40.0</td>\n",
              "      <td>SEK</td>\n",
              "      <td>3</td>\n",
              "      <td>debit_card</td>\n",
              "    </tr>\n",
              "    <tr>\n",
              "      <th>1</th>\n",
              "      <td>50a6fb3fc2465d6d820f5a569be4d566</td>\n",
              "      <td>56.0</td>\n",
              "      <td>SEK</td>\n",
              "      <td>1</td>\n",
              "      <td>debit_card</td>\n",
              "    </tr>\n",
              "    <tr>\n",
              "      <th>2</th>\n",
              "      <td>531202443efb276e104f75af96ec510b</td>\n",
              "      <td>60.0</td>\n",
              "      <td>SEK</td>\n",
              "      <td>1</td>\n",
              "      <td>debit_card</td>\n",
              "    </tr>\n",
              "    <tr>\n",
              "      <th>3</th>\n",
              "      <td>00ceda91cb2ded8570ca73e70571740a</td>\n",
              "      <td>68.0</td>\n",
              "      <td>SEK</td>\n",
              "      <td>1</td>\n",
              "      <td>debit_card</td>\n",
              "    </tr>\n",
              "    <tr>\n",
              "      <th>4</th>\n",
              "      <td>a10a91a376b8f910600da4c459245e9f</td>\n",
              "      <td>72.0</td>\n",
              "      <td>SEK</td>\n",
              "      <td>1</td>\n",
              "      <td>debit_card</td>\n",
              "    </tr>\n",
              "  </tbody>\n",
              "</table>\n",
              "</div>"
            ],
            "text/plain": [
              "                           order_id  payment_value currency  payment_types payment_method\n",
              "0  a4431cbd79dbddaae7988ce6091cbc3c           40.0      SEK              3     debit_card\n",
              "1  50a6fb3fc2465d6d820f5a569be4d566           56.0      SEK              1     debit_card\n",
              "2  531202443efb276e104f75af96ec510b           60.0      SEK              1     debit_card\n",
              "3  00ceda91cb2ded8570ca73e70571740a           68.0      SEK              1     debit_card\n",
              "4  a10a91a376b8f910600da4c459245e9f           72.0      SEK              1     debit_card"
            ]
          },
          "metadata": {
            "tags": []
          },
          "execution_count": 282
        }
      ]
    },
    {
      "cell_type": "code",
      "metadata": {
        "colab": {
          "base_uri": "https://localhost:8080/"
        },
        "id": "xM7qhWV4BQSr",
        "outputId": "8acbf6a5-299e-45b2-fa69-e35b7396c430"
      },
      "source": [
        "print(f\"The customer dataframe shape is - rows : {customer.shape[0]}; columns : {customer.shape[1]}\")\n",
        "print(f\"The order dataframe shape is - rows : {order.shape[0]}; columns : {order.shape[1]}\")\n",
        "print(f\"The payment dataframe shape is - rows : {payment.shape[0]}; columns : {payment.shape[1]}\")"
      ],
      "execution_count": null,
      "outputs": [
        {
          "output_type": "stream",
          "text": [
            "The customer dataframe shape is - rows : 16000; columns : 3\n",
            "The order dataframe shape is - rows : 152777; columns : 20\n",
            "The payment dataframe shape is - rows : 56027; columns : 5\n"
          ],
          "name": "stdout"
        }
      ]
    },
    {
      "cell_type": "code",
      "metadata": {
        "colab": {
          "base_uri": "https://localhost:8080/"
        },
        "id": "oC9_yTB2CoxK",
        "outputId": "7e0f3ba0-4357-40ef-da8b-9bf7f44e8896"
      },
      "source": [
        "print(f\"{customer.info()} \\n\")\n",
        "print(f\"{order.info()} \\n\")\n",
        "print(payment.info())"
      ],
      "execution_count": null,
      "outputs": [
        {
          "output_type": "stream",
          "text": [
            "<class 'pandas.core.frame.DataFrame'>\n",
            "RangeIndex: 16000 entries, 0 to 15999\n",
            "Data columns (total 3 columns):\n",
            " #   Column         Non-Null Count  Dtype \n",
            "---  ------         --------------  ----- \n",
            " 0   customer_id    16000 non-null  object\n",
            " 1   customer_city  16000 non-null  object\n",
            " 2   channel        16000 non-null  object\n",
            "dtypes: object(3)\n",
            "memory usage: 375.1+ KB\n",
            "None \n",
            "\n",
            "<class 'pandas.core.frame.DataFrame'>\n",
            "RangeIndex: 152777 entries, 0 to 152776\n",
            "Data columns (total 20 columns):\n",
            " #   Column                        Non-Null Count   Dtype  \n",
            "---  ------                        --------------   -----  \n",
            " 0   order_id                      152777 non-null  object \n",
            " 1   customer_id                   152777 non-null  object \n",
            " 2   order_status                  152777 non-null  object \n",
            " 3   order_purchase_timestamp      152777 non-null  object \n",
            " 4   order_approved_at             152762 non-null  object \n",
            " 5   order_delivered_carrier_date  151316 non-null  object \n",
            " 6   order_item_id                 152777 non-null  int64  \n",
            " 7   product_id                    152777 non-null  object \n",
            " 8   seller_id                     152777 non-null  object \n",
            " 9   price                         152777 non-null  float64\n",
            " 10  freight_value                 152777 non-null  float64\n",
            " 11  currency                      152777 non-null  object \n",
            " 12  product_category_name         150564 non-null  object \n",
            " 13  product_name_lenght           150591 non-null  float64\n",
            " 14  product_description_lenght    150591 non-null  float64\n",
            " 15  product_photos_qty            150591 non-null  float64\n",
            " 16  product_weight_g              152759 non-null  float64\n",
            " 17  product_length_cm             152759 non-null  float64\n",
            " 18  product_height_cm             152759 non-null  float64\n",
            " 19  product_width_cm              152759 non-null  float64\n",
            "dtypes: float64(9), int64(1), object(10)\n",
            "memory usage: 23.3+ MB\n",
            "None \n",
            "\n",
            "<class 'pandas.core.frame.DataFrame'>\n",
            "RangeIndex: 56027 entries, 0 to 56026\n",
            "Data columns (total 5 columns):\n",
            " #   Column          Non-Null Count  Dtype  \n",
            "---  ------          --------------  -----  \n",
            " 0   order_id        56027 non-null  object \n",
            " 1   payment_value   56027 non-null  float64\n",
            " 2   currency        56027 non-null  object \n",
            " 3   payment_types   56027 non-null  int64  \n",
            " 4   payment_method  56027 non-null  object \n",
            "dtypes: float64(1), int64(1), object(3)\n",
            "memory usage: 2.1+ MB\n",
            "None\n"
          ],
          "name": "stdout"
        }
      ]
    },
    {
      "cell_type": "code",
      "metadata": {
        "colab": {
          "base_uri": "https://localhost:8080/"
        },
        "id": "CwKFmx65EAjn",
        "outputId": "c3732609-778c-4f1d-f482-3c5199877d1c"
      },
      "source": [
        "print(f\"{customer.describe()} \\n\\n\")\n",
        "print(f\"{order.describe()} \\n\\n\")\n",
        "print(payment.describe())"
      ],
      "execution_count": null,
      "outputs": [
        {
          "output_type": "stream",
          "text": [
            "                             customer_id customer_city channel\n",
            "count                              16000         16000   16000\n",
            "unique                             16000             2       3\n",
            "top     8f006da388bf8a72df55590123b02d67     Stockholm  Google\n",
            "freq                                   1          9118    7375 \n",
            "\n",
            "\n",
            "       order_item_id         price  freight_value  product_name_lenght  product_description_lenght  product_photos_qty  product_weight_g  product_length_cm  product_height_cm  product_width_cm\n",
            "count  152777.000000  1.527770e+05   1.527770e+05        150591.000000               150591.000000       150591.000000     152759.000000      152759.000000      152759.000000     152759.000000\n",
            "mean        1.200370  3.654762e+06   2.900704e+05            48.798421                  792.127478            2.205955       2097.129989          30.090888          16.574644         22.874351\n",
            "std         0.711372  1.045614e+09   6.178633e+07             9.987514                  653.266466            1.728734       3741.855228          16.252087          13.461594         11.655850\n",
            "min         1.000000  1.700000e+00   0.000000e+00             5.000000                    4.000000            1.000000          0.000000           7.000000           2.000000          6.000000\n",
            "25%         1.000000  9.980000e+01   2.594000e+01            42.000000                  348.000000            1.000000        300.000000          18.000000           8.000000         15.000000\n",
            "50%         1.000000  2.198000e+02   3.256000e+01            52.000000                  608.000000            1.000000        675.000000          25.000000          13.000000         20.000000\n",
            "75%         1.000000  5.999800e+02   4.230000e+01            57.000000                  989.500000            3.000000       1800.000000          38.000000          20.000000         30.000000\n",
            "max        21.000000  3.920000e+11   1.599000e+10            76.000000                 3992.000000           20.000000      40425.000000         105.000000         105.000000        118.000000 \n",
            "\n",
            "\n",
            "       payment_value  payment_types\n",
            "count   5.602700e+04   56027.000000\n",
            "mean    9.245232e+06       1.046799\n",
            "std     1.785099e+09       0.439201\n",
            "min     0.000000e+00       1.000000\n",
            "25%     3.228600e+02       1.000000\n",
            "50%     8.251400e+02       1.000000\n",
            "75%     1.777920e+03       1.000000\n",
            "max     4.079900e+11      22.000000\n"
          ],
          "name": "stdout"
        }
      ]
    },
    {
      "cell_type": "markdown",
      "metadata": {
        "id": "ZeyzWhRx_xRT"
      },
      "source": [
        "# Data cleaning & preprocessing:"
      ]
    },
    {
      "cell_type": "markdown",
      "metadata": {
        "id": "82Cz7SjHKcQT"
      },
      "source": [
        "### Cleaning order dataframe - order status cancelled or unavailable & potential nulls"
      ]
    },
    {
      "cell_type": "code",
      "metadata": {
        "colab": {
          "base_uri": "https://localhost:8080/"
        },
        "id": "_lr29r0PxeXa",
        "outputId": "d818f4fe-41fb-4161-8afd-aff250306ee4"
      },
      "source": [
        "is_NaN = order.isnull()\n",
        "row_has_NaN = is_NaN['order_approved_at']\n",
        "rows_with_NaN = order[row_has_NaN]\n",
        "print(rows_with_NaN)\n",
        "print()\n",
        "order['order_status'].value_counts()"
      ],
      "execution_count": null,
      "outputs": [
        {
          "output_type": "stream",
          "text": [
            "                                order_id                       customer_id order_status order_purchase_timestamp order_approved_at order_delivered_carrier_date  order_item_id                        product_id                         seller_id   price  freight_value currency      product_category_name  product_name_lenght  product_description_lenght  product_photos_qty  product_weight_g  product_length_cm  product_height_cm  product_width_cm\n",
            "53794   88083e8f64d95b932164187484d90212  f67cd1a215aae2a1074638bbd35a223a    delivered  2017-02-18 22:49:19 UTC               NaN      2017-02-22 11:31:06 UTC              1  8c5876b1c7768217964f353bc7e64393  0db783cfcd3b73998abc6e10e59a102f   98.00          29.04      SEK                  telephony                 61.0                       440.0                 1.0             250.0               18.0                3.0              28.0\n",
            "53795   88083e8f64d95b932164187484d90212  f67cd1a215aae2a1074638bbd35a223a    delivered  2017-02-18 22:49:19 UTC               NaN      2017-02-22 11:31:06 UTC              2  8c5876b1c7768217964f353bc7e64393  0db783cfcd3b73998abc6e10e59a102f   98.00          29.04      SEK                  telephony                 61.0                       440.0                 1.0             250.0               18.0                3.0              28.0\n",
            "55124   7002a78c79c519ac54022d4f8a65e6e8  d5de688c321096d15508faae67a27051    delivered  2017-01-19 22:26:59 UTC               NaN      2017-01-27 11:08:05 UTC              1  c3b271f47e73d0c9ccf1b43b7606c705  cca3071e3e9bb7d12640c9fbe2301306   91.80          29.04      SEK            furniture_decor                 59.0                       473.0                 1.0             600.0               30.0                3.0              20.0\n",
            "63808   51eb2eebd5d76a24625b31c33dd41449  07a2a7e0f63fd8cb757ed77d4245623c    delivered  2017-02-18 15:52:27 UTC               NaN      2017-02-23 03:09:14 UTC              1  7868a64aa111bbb4f41f8e1146c0becb  cca3071e3e9bb7d12640c9fbe2301306  119.80          34.32      SEK            furniture_decor                 59.0                       438.0                 1.0            1200.0               30.0                5.0              20.0\n",
            "76306   d69e5d356402adc8cf17e08b5033acfb  68d081753ad4fe22fc4d410a9eb1ca01    delivered  2017-02-19 01:28:47 UTC               NaN      2017-02-23 03:11:48 UTC              1  cae2e38942c8489d9d7a87a3f525c06b  cca3071e3e9bb7d12640c9fbe2301306  299.60          27.26      SEK            furniture_decor                 54.0                       586.0                 1.0            1700.0               33.0                8.0              23.0\n",
            "94146   3c0b8706b065f9919d0505d3b3343881  d85919cb3c0529589c6fa617f5f43281    delivered  2017-02-17 15:53:27 UTC               NaN      2017-02-22 11:31:30 UTC              1  db8ed3d08891d16a2438a67ab3acb740  004c9cd9d87a3c30c522c48c4fc07416  267.98          46.40      SEK             bed_bath_table                 62.0                       702.0                 1.0            2700.0               42.0               11.0              36.0\n",
            "104220  2eecb0d85f281280f79fa00f9cec1a95  a3d3c38e58b9d2dfb9207cab690b6310    delivered  2017-02-17 17:21:55 UTC               NaN      2017-02-22 11:42:51 UTC              1  4fd676d9c4723d475026e40aeae56957  5fd924b4836098a5be0ecf81ba054ce0  270.00          38.46      SEK               garden_tools                 44.0                       441.0                 3.0            4300.0               36.0               13.0              20.0\n",
            "110207  8a9adc69528e1001fc68dd0aaebbb54a  4c1ccc74e00993733742a3c786dc3c1f    delivered  2017-02-18 12:45:31 UTC               NaN      2017-02-23 09:01:52 UTC              1  2c2b6a28924791234bd386bddb17512e  a4b6b9b992b46e9ef863637af96e04bc  758.00          35.72      SEK  construction_tools_safety                 56.0                       498.0                 1.0            1008.0               33.0               14.0              26.0\n",
            "114822  d77031d6a3c8a52f019764e68f211c69  0bf35cac6cc7327065da879e2d90fae8    delivered  2017-02-18 11:04:19 UTC               NaN      2017-02-23 07:23:36 UTC              1  02a79d79e818ad0be36cfc843a6af7ad  cb3dd9ce66268c7a3ca7241ac70ab58c   57.98          21.92      SEK             sports_leisure                 60.0                      1738.0                 1.0             300.0               16.0               15.0              15.0\n",
            "120142  c1d4211b3dae76144deccd6c74144a88  684cb238dc5b5d6366244e0e0776b450    delivered  2017-01-19 12:48:08 UTC               NaN      2017-01-25 14:56:50 UTC              1  5ab02ca028398131a5ae91401eb49788  80e6699fe29150b372a0c8a1ebf7dcc8   79.98          29.04      SEK             sports_leisure                 33.0                      1322.0                 2.0             700.0               26.0               16.0              21.0\n",
            "140840  5cf925b116421afa85ee25e99b4c34fb  29c35fc91fc13fb5073c8f30505d860d    delivered  2017-02-18 16:48:35 UTC               NaN      2017-02-22 11:23:10 UTC              1  c6dd917a0be2a704582055949915ab32  7a67c85e85bb2ce8582c35f2203ad736  159.98          53.64      SEK                 cool_stuff                 54.0                      1012.0                 1.0            1200.0               42.0               25.0              15.0\n",
            "140842  12a95a3c06dbaec84bcfb0e2da5d228a  1e101e0daffaddce8159d25a8e53f2b2    delivered  2017-02-17 13:05:55 UTC               NaN      2017-02-22 11:23:11 UTC              1  c6dd917a0be2a704582055949915ab32  7a67c85e85bb2ce8582c35f2203ad736  159.98          31.54      SEK                 cool_stuff                 54.0                      1012.0                 1.0            1200.0               42.0               25.0              15.0\n",
            "140918  2babbb4b15e6d2dfe95e2de765c97bce  74bebaf46603f9340e3b50c6b086f992    delivered  2017-02-18 17:15:03 UTC               NaN      2017-02-22 11:23:11 UTC              1  c6dd917a0be2a704582055949915ab32  7a67c85e85bb2ce8582c35f2203ad736  159.98          53.64      SEK                 cool_stuff                 54.0                      1012.0                 1.0            1200.0               42.0               25.0              15.0\n",
            "144605  7013bcfc1c97fe719a7b5e05e61c12db  2941af76d38100e0f8740a374f1a5dc3    delivered  2017-02-18 13:29:47 UTC               NaN      2017-02-22 16:25:25 UTC              1  583916a5dae918f5e89baec139141c54  3481aa57cd91f9f9d3fa1fa12d9a3bf7   99.98          31.06      SEK                        NaN                  NaN                         NaN                 NaN            3100.0               28.0               28.0              50.0\n",
            "151487  e04abd8149ef81b95221e88f6ed9ab6a  2127dc6603ac33544953ef05ec155771    delivered  2017-02-18 14:40:00 UTC               NaN      2017-02-23 12:04:47 UTC              1  0e20a07ca1714df21f9b07ca3bf7c682  4e7c18b98d84e05cbae3ff0ff03846c2  619.80          78.22      SEK           small_appliances                 41.0                       675.0                 2.0           20800.0               75.0               40.0              40.0\n",
            "\n"
          ],
          "name": "stdout"
        },
        {
          "output_type": "execute_result",
          "data": {
            "text/plain": [
              "delivered      149536\n",
              "shipped          1637\n",
              "canceled          719\n",
              "invoiced          450\n",
              "processing        425\n",
              "unavailable         7\n",
              "approved            3\n",
              "Name: order_status, dtype: int64"
            ]
          },
          "metadata": {
            "tags": []
          },
          "execution_count": 286
        }
      ]
    },
    {
      "cell_type": "code",
      "metadata": {
        "colab": {
          "base_uri": "https://localhost:8080/",
          "height": 405
        },
        "id": "DlaZd64dy_l6",
        "outputId": "d6e7e62d-1cce-4976-e435-0a865c0dc47f"
      },
      "source": [
        "#Examining the orders with 'unavailable' status\n",
        "fil = order['order_status'] == 'unavailable'\n",
        "order[fil]"
      ],
      "execution_count": null,
      "outputs": [
        {
          "output_type": "execute_result",
          "data": {
            "text/html": [
              "<div>\n",
              "<style scoped>\n",
              "    .dataframe tbody tr th:only-of-type {\n",
              "        vertical-align: middle;\n",
              "    }\n",
              "\n",
              "    .dataframe tbody tr th {\n",
              "        vertical-align: top;\n",
              "    }\n",
              "\n",
              "    .dataframe thead th {\n",
              "        text-align: right;\n",
              "    }\n",
              "</style>\n",
              "<table border=\"1\" class=\"dataframe\">\n",
              "  <thead>\n",
              "    <tr style=\"text-align: right;\">\n",
              "      <th></th>\n",
              "      <th>order_id</th>\n",
              "      <th>customer_id</th>\n",
              "      <th>order_status</th>\n",
              "      <th>order_purchase_timestamp</th>\n",
              "      <th>order_approved_at</th>\n",
              "      <th>order_delivered_carrier_date</th>\n",
              "      <th>order_item_id</th>\n",
              "      <th>product_id</th>\n",
              "      <th>seller_id</th>\n",
              "      <th>price</th>\n",
              "      <th>freight_value</th>\n",
              "      <th>currency</th>\n",
              "      <th>product_category_name</th>\n",
              "      <th>product_name_lenght</th>\n",
              "      <th>product_description_lenght</th>\n",
              "      <th>product_photos_qty</th>\n",
              "      <th>product_weight_g</th>\n",
              "      <th>product_length_cm</th>\n",
              "      <th>product_height_cm</th>\n",
              "      <th>product_width_cm</th>\n",
              "    </tr>\n",
              "  </thead>\n",
              "  <tbody>\n",
              "    <tr>\n",
              "      <th>53128</th>\n",
              "      <td>3c3ca08854ca922fe8e9cedfd6841c8a</td>\n",
              "      <td>88c36fbd3df96094f90f0315e1d2dd90</td>\n",
              "      <td>unavailable</td>\n",
              "      <td>2016-10-08 12:13:38 UTC</td>\n",
              "      <td>2016-10-08 13:21:35 UTC</td>\n",
              "      <td>NaN</td>\n",
              "      <td>1</td>\n",
              "      <td>ac6c24af9f913c9375a3ea77883bda6e</td>\n",
              "      <td>5206cc4bc2297c833e6061c49bf9c43f</td>\n",
              "      <td>70.00</td>\n",
              "      <td>21.92</td>\n",
              "      <td>SEK</td>\n",
              "      <td>auto</td>\n",
              "      <td>28.0</td>\n",
              "      <td>325.0</td>\n",
              "      <td>6.0</td>\n",
              "      <td>300.0</td>\n",
              "      <td>35.0</td>\n",
              "      <td>3.0</td>\n",
              "      <td>26.0</td>\n",
              "    </tr>\n",
              "    <tr>\n",
              "      <th>103010</th>\n",
              "      <td>2fd1c83dd4714cf3cf796fffb6c8de62</td>\n",
              "      <td>7f51c513004ef3f35e834c142f286778</td>\n",
              "      <td>unavailable</td>\n",
              "      <td>2016-10-05 17:21:29 UTC</td>\n",
              "      <td>2016-10-06 15:55:40 UTC</td>\n",
              "      <td>NaN</td>\n",
              "      <td>2</td>\n",
              "      <td>966a067b38634929844120e39b1576bc</td>\n",
              "      <td>61f159ef6da2d441951d2c0efa719362</td>\n",
              "      <td>119.98</td>\n",
              "      <td>48.16</td>\n",
              "      <td>SEK</td>\n",
              "      <td>baby</td>\n",
              "      <td>34.0</td>\n",
              "      <td>496.0</td>\n",
              "      <td>2.0</td>\n",
              "      <td>2050.0</td>\n",
              "      <td>33.0</td>\n",
              "      <td>13.0</td>\n",
              "      <td>29.0</td>\n",
              "    </tr>\n",
              "    <tr>\n",
              "      <th>107357</th>\n",
              "      <td>1a47da1d66c70489c8e35fe2b5433ab7</td>\n",
              "      <td>3d8e326c3cef3a9bba7ca121baac5fc3</td>\n",
              "      <td>unavailable</td>\n",
              "      <td>2016-10-07 18:16:31 UTC</td>\n",
              "      <td>2016-10-07 18:53:48 UTC</td>\n",
              "      <td>NaN</td>\n",
              "      <td>1</td>\n",
              "      <td>eba7488e1c67729f045ab43fac426f2e</td>\n",
              "      <td>620c87c171fb2a6dd6e8bb4dec959fc6</td>\n",
              "      <td>499.80</td>\n",
              "      <td>41.70</td>\n",
              "      <td>SEK</td>\n",
              "      <td>perfumery</td>\n",
              "      <td>43.0</td>\n",
              "      <td>259.0</td>\n",
              "      <td>1.0</td>\n",
              "      <td>610.0</td>\n",
              "      <td>22.0</td>\n",
              "      <td>14.0</td>\n",
              "      <td>16.0</td>\n",
              "    </tr>\n",
              "    <tr>\n",
              "      <th>121674</th>\n",
              "      <td>4dd47e84e6b8ff4a63d0b8425e6d788e</td>\n",
              "      <td>96bbcbc8372c86da857d842dfda6bd72</td>\n",
              "      <td>unavailable</td>\n",
              "      <td>2016-10-06 23:49:18 UTC</td>\n",
              "      <td>2016-10-07 01:09:08 UTC</td>\n",
              "      <td>NaN</td>\n",
              "      <td>1</td>\n",
              "      <td>2aa489c905e1d41d8c716a6d6912d8c2</td>\n",
              "      <td>620c87c171fb2a6dd6e8bb4dec959fc6</td>\n",
              "      <td>599.80</td>\n",
              "      <td>27.36</td>\n",
              "      <td>SEK</td>\n",
              "      <td>perfumery</td>\n",
              "      <td>35.0</td>\n",
              "      <td>776.0</td>\n",
              "      <td>1.0</td>\n",
              "      <td>635.0</td>\n",
              "      <td>20.0</td>\n",
              "      <td>17.0</td>\n",
              "      <td>17.0</td>\n",
              "    </tr>\n",
              "    <tr>\n",
              "      <th>127289</th>\n",
              "      <td>2fd1c83dd4714cf3cf796fffb6c8de62</td>\n",
              "      <td>7f51c513004ef3f35e834c142f286778</td>\n",
              "      <td>unavailable</td>\n",
              "      <td>2016-10-05 17:21:29 UTC</td>\n",
              "      <td>2016-10-06 15:55:40 UTC</td>\n",
              "      <td>NaN</td>\n",
              "      <td>1</td>\n",
              "      <td>17c7ec33a1657924ad493e6978b4bf91</td>\n",
              "      <td>3d01d1c414c44b5943a09619ff3853cb</td>\n",
              "      <td>198.00</td>\n",
              "      <td>18.24</td>\n",
              "      <td>SEK</td>\n",
              "      <td>baby</td>\n",
              "      <td>31.0</td>\n",
              "      <td>594.0</td>\n",
              "      <td>6.0</td>\n",
              "      <td>950.0</td>\n",
              "      <td>22.0</td>\n",
              "      <td>20.0</td>\n",
              "      <td>28.0</td>\n",
              "    </tr>\n",
              "    <tr>\n",
              "      <th>129380</th>\n",
              "      <td>dc18a044b56ed174037ca164cdf2e921</td>\n",
              "      <td>4a06381959b6670756de02e07b83815f</td>\n",
              "      <td>unavailable</td>\n",
              "      <td>2016-10-05 14:16:28 UTC</td>\n",
              "      <td>2016-10-06 15:56:49 UTC</td>\n",
              "      <td>NaN</td>\n",
              "      <td>1</td>\n",
              "      <td>faa268ecc8a8434cb4ebee091b3222d6</td>\n",
              "      <td>f0563bacf40c311f1c4d3d6b67b8a7a7</td>\n",
              "      <td>2398.00</td>\n",
              "      <td>57.56</td>\n",
              "      <td>SEK</td>\n",
              "      <td>electronics</td>\n",
              "      <td>48.0</td>\n",
              "      <td>2276.0</td>\n",
              "      <td>4.0</td>\n",
              "      <td>1800.0</td>\n",
              "      <td>55.0</td>\n",
              "      <td>20.0</td>\n",
              "      <td>45.0</td>\n",
              "    </tr>\n",
              "    <tr>\n",
              "      <th>146255</th>\n",
              "      <td>54bb06e1ca86bd99ee2a8d6288bf4ede</td>\n",
              "      <td>98bfbf477ed9f40a0264f5e527a446be</td>\n",
              "      <td>unavailable</td>\n",
              "      <td>2016-10-06 13:38:39 UTC</td>\n",
              "      <td>2016-10-06 14:22:19 UTC</td>\n",
              "      <td>NaN</td>\n",
              "      <td>1</td>\n",
              "      <td>bef13288a0f8b26d763411ced1dfa268</td>\n",
              "      <td>cf281cf8b7affbdfe751b29cc85580e1</td>\n",
              "      <td>129.80</td>\n",
              "      <td>50.66</td>\n",
              "      <td>SEK</td>\n",
              "      <td>cool_stuff</td>\n",
              "      <td>50.0</td>\n",
              "      <td>450.0</td>\n",
              "      <td>2.0</td>\n",
              "      <td>350.0</td>\n",
              "      <td>20.0</td>\n",
              "      <td>30.0</td>\n",
              "      <td>40.0</td>\n",
              "    </tr>\n",
              "  </tbody>\n",
              "</table>\n",
              "</div>"
            ],
            "text/plain": [
              "                                order_id                       customer_id order_status order_purchase_timestamp        order_approved_at order_delivered_carrier_date  order_item_id                        product_id                         seller_id    price  freight_value currency product_category_name  product_name_lenght  product_description_lenght  product_photos_qty  product_weight_g  product_length_cm  product_height_cm  product_width_cm\n",
              "53128   3c3ca08854ca922fe8e9cedfd6841c8a  88c36fbd3df96094f90f0315e1d2dd90  unavailable  2016-10-08 12:13:38 UTC  2016-10-08 13:21:35 UTC                          NaN              1  ac6c24af9f913c9375a3ea77883bda6e  5206cc4bc2297c833e6061c49bf9c43f    70.00          21.92      SEK                  auto                 28.0                       325.0                 6.0             300.0               35.0                3.0              26.0\n",
              "103010  2fd1c83dd4714cf3cf796fffb6c8de62  7f51c513004ef3f35e834c142f286778  unavailable  2016-10-05 17:21:29 UTC  2016-10-06 15:55:40 UTC                          NaN              2  966a067b38634929844120e39b1576bc  61f159ef6da2d441951d2c0efa719362   119.98          48.16      SEK                  baby                 34.0                       496.0                 2.0            2050.0               33.0               13.0              29.0\n",
              "107357  1a47da1d66c70489c8e35fe2b5433ab7  3d8e326c3cef3a9bba7ca121baac5fc3  unavailable  2016-10-07 18:16:31 UTC  2016-10-07 18:53:48 UTC                          NaN              1  eba7488e1c67729f045ab43fac426f2e  620c87c171fb2a6dd6e8bb4dec959fc6   499.80          41.70      SEK             perfumery                 43.0                       259.0                 1.0             610.0               22.0               14.0              16.0\n",
              "121674  4dd47e84e6b8ff4a63d0b8425e6d788e  96bbcbc8372c86da857d842dfda6bd72  unavailable  2016-10-06 23:49:18 UTC  2016-10-07 01:09:08 UTC                          NaN              1  2aa489c905e1d41d8c716a6d6912d8c2  620c87c171fb2a6dd6e8bb4dec959fc6   599.80          27.36      SEK             perfumery                 35.0                       776.0                 1.0             635.0               20.0               17.0              17.0\n",
              "127289  2fd1c83dd4714cf3cf796fffb6c8de62  7f51c513004ef3f35e834c142f286778  unavailable  2016-10-05 17:21:29 UTC  2016-10-06 15:55:40 UTC                          NaN              1  17c7ec33a1657924ad493e6978b4bf91  3d01d1c414c44b5943a09619ff3853cb   198.00          18.24      SEK                  baby                 31.0                       594.0                 6.0             950.0               22.0               20.0              28.0\n",
              "129380  dc18a044b56ed174037ca164cdf2e921  4a06381959b6670756de02e07b83815f  unavailable  2016-10-05 14:16:28 UTC  2016-10-06 15:56:49 UTC                          NaN              1  faa268ecc8a8434cb4ebee091b3222d6  f0563bacf40c311f1c4d3d6b67b8a7a7  2398.00          57.56      SEK           electronics                 48.0                      2276.0                 4.0            1800.0               55.0               20.0              45.0\n",
              "146255  54bb06e1ca86bd99ee2a8d6288bf4ede  98bfbf477ed9f40a0264f5e527a446be  unavailable  2016-10-06 13:38:39 UTC  2016-10-06 14:22:19 UTC                          NaN              1  bef13288a0f8b26d763411ced1dfa268  cf281cf8b7affbdfe751b29cc85580e1   129.80          50.66      SEK            cool_stuff                 50.0                       450.0                 2.0             350.0               20.0               30.0              40.0"
            ]
          },
          "metadata": {
            "tags": []
          },
          "execution_count": 287
        }
      ]
    },
    {
      "cell_type": "code",
      "metadata": {
        "colab": {
          "base_uri": "https://localhost:8080/"
        },
        "id": "Qw3DWqHkzveq",
        "outputId": "5933a6f6-a55a-4b7e-908c-b7ed66345713"
      },
      "source": [
        "order = order[~fil]\n",
        "fil1 = (order['order_status'] == 'canceled')\n",
        "order = order[~fil1]\n",
        "order.info()\n",
        "order['order_status'].value_counts()"
      ],
      "execution_count": null,
      "outputs": [
        {
          "output_type": "stream",
          "text": [
            "<class 'pandas.core.frame.DataFrame'>\n",
            "Int64Index: 152051 entries, 0 to 152776\n",
            "Data columns (total 20 columns):\n",
            " #   Column                        Non-Null Count   Dtype  \n",
            "---  ------                        --------------   -----  \n",
            " 0   order_id                      152051 non-null  object \n",
            " 1   customer_id                   152051 non-null  object \n",
            " 2   order_status                  152051 non-null  object \n",
            " 3   order_purchase_timestamp      152051 non-null  object \n",
            " 4   order_approved_at             152036 non-null  object \n",
            " 5   order_delivered_carrier_date  151171 non-null  object \n",
            " 6   order_item_id                 152051 non-null  int64  \n",
            " 7   product_id                    152051 non-null  object \n",
            " 8   seller_id                     152051 non-null  object \n",
            " 9   price                         152051 non-null  float64\n",
            " 10  freight_value                 152051 non-null  float64\n",
            " 11  currency                      152051 non-null  object \n",
            " 12  product_category_name         149858 non-null  object \n",
            " 13  product_name_lenght           149883 non-null  float64\n",
            " 14  product_description_lenght    149883 non-null  float64\n",
            " 15  product_photos_qty            149883 non-null  float64\n",
            " 16  product_weight_g              152033 non-null  float64\n",
            " 17  product_length_cm             152033 non-null  float64\n",
            " 18  product_height_cm             152033 non-null  float64\n",
            " 19  product_width_cm              152033 non-null  float64\n",
            "dtypes: float64(9), int64(1), object(10)\n",
            "memory usage: 24.4+ MB\n"
          ],
          "name": "stdout"
        },
        {
          "output_type": "execute_result",
          "data": {
            "text/plain": [
              "delivered     149536\n",
              "shipped         1637\n",
              "invoiced         450\n",
              "processing       425\n",
              "approved           3\n",
              "Name: order_status, dtype: int64"
            ]
          },
          "metadata": {
            "tags": []
          },
          "execution_count": 288
        }
      ]
    },
    {
      "cell_type": "code",
      "metadata": {
        "colab": {
          "base_uri": "https://localhost:8080/",
          "height": 255
        },
        "id": "p6Q0uPo92wdP",
        "outputId": "f536aad8-7e9b-4662-fec4-529a023d4db9"
      },
      "source": [
        "is_NaN1 = order.isnull()\n",
        "row_has_NaN1 = is_NaN1['order_delivered_carrier_date']\n",
        "rows_with_NaN1 = order[row_has_NaN1]\n",
        "print(rows_with_NaN1['order_status'].value_counts())\n",
        "fil2 = rows_with_NaN1['order_status'] == \"delivered\"\n",
        "rows_with_NaN1[fil2]"
      ],
      "execution_count": null,
      "outputs": [
        {
          "output_type": "stream",
          "text": [
            "invoiced      450\n",
            "processing    425\n",
            "approved        3\n",
            "delivered       2\n",
            "Name: order_status, dtype: int64\n"
          ],
          "name": "stdout"
        },
        {
          "output_type": "execute_result",
          "data": {
            "text/html": [
              "<div>\n",
              "<style scoped>\n",
              "    .dataframe tbody tr th:only-of-type {\n",
              "        vertical-align: middle;\n",
              "    }\n",
              "\n",
              "    .dataframe tbody tr th {\n",
              "        vertical-align: top;\n",
              "    }\n",
              "\n",
              "    .dataframe thead th {\n",
              "        text-align: right;\n",
              "    }\n",
              "</style>\n",
              "<table border=\"1\" class=\"dataframe\">\n",
              "  <thead>\n",
              "    <tr style=\"text-align: right;\">\n",
              "      <th></th>\n",
              "      <th>order_id</th>\n",
              "      <th>customer_id</th>\n",
              "      <th>order_status</th>\n",
              "      <th>order_purchase_timestamp</th>\n",
              "      <th>order_approved_at</th>\n",
              "      <th>order_delivered_carrier_date</th>\n",
              "      <th>order_item_id</th>\n",
              "      <th>product_id</th>\n",
              "      <th>seller_id</th>\n",
              "      <th>price</th>\n",
              "      <th>freight_value</th>\n",
              "      <th>currency</th>\n",
              "      <th>product_category_name</th>\n",
              "      <th>product_name_lenght</th>\n",
              "      <th>product_description_lenght</th>\n",
              "      <th>product_photos_qty</th>\n",
              "      <th>product_weight_g</th>\n",
              "      <th>product_length_cm</th>\n",
              "      <th>product_height_cm</th>\n",
              "      <th>product_width_cm</th>\n",
              "    </tr>\n",
              "  </thead>\n",
              "  <tbody>\n",
              "    <tr>\n",
              "      <th>143683</th>\n",
              "      <td>2d858f451373b04fb5c984a1cc2defaf</td>\n",
              "      <td>e08caf668d499a6d643dafd7c5cc498a</td>\n",
              "      <td>delivered</td>\n",
              "      <td>2017-05-25 23:22:43 UTC</td>\n",
              "      <td>2017-05-25 23:30:16 UTC</td>\n",
              "      <td>NaN</td>\n",
              "      <td>1</td>\n",
              "      <td>30b5b5635a79548a48d04162d971848f</td>\n",
              "      <td>f9bbdd976532d50b7816d285a22bd01e</td>\n",
              "      <td>358.0</td>\n",
              "      <td>30.00</td>\n",
              "      <td>SEK</td>\n",
              "      <td>sports_leisure</td>\n",
              "      <td>43.0</td>\n",
              "      <td>1873.0</td>\n",
              "      <td>2.0</td>\n",
              "      <td>900.0</td>\n",
              "      <td>26.0</td>\n",
              "      <td>26.0</td>\n",
              "      <td>26.0</td>\n",
              "    </tr>\n",
              "    <tr>\n",
              "      <th>152646</th>\n",
              "      <td>2aa91108853cecb43c84a5dc5b277475</td>\n",
              "      <td>afeb16c7f46396c0ed54acb45ccaaa40</td>\n",
              "      <td>delivered</td>\n",
              "      <td>2017-09-29 08:52:58 UTC</td>\n",
              "      <td>2017-09-29 09:07:16 UTC</td>\n",
              "      <td>NaN</td>\n",
              "      <td>1</td>\n",
              "      <td>44c2baf621113fa7ac95fa06b4afbc68</td>\n",
              "      <td>3f2af2670e104d1bcb54022274daeac5</td>\n",
              "      <td>358.0</td>\n",
              "      <td>29.96</td>\n",
              "      <td>SEK</td>\n",
              "      <td>furniture_decor</td>\n",
              "      <td>54.0</td>\n",
              "      <td>984.0</td>\n",
              "      <td>2.0</td>\n",
              "      <td>7000.0</td>\n",
              "      <td>16.0</td>\n",
              "      <td>50.0</td>\n",
              "      <td>55.0</td>\n",
              "    </tr>\n",
              "  </tbody>\n",
              "</table>\n",
              "</div>"
            ],
            "text/plain": [
              "                                order_id                       customer_id order_status order_purchase_timestamp        order_approved_at order_delivered_carrier_date  order_item_id                        product_id                         seller_id  price  freight_value currency product_category_name  product_name_lenght  product_description_lenght  product_photos_qty  product_weight_g  product_length_cm  product_height_cm  product_width_cm\n",
              "143683  2d858f451373b04fb5c984a1cc2defaf  e08caf668d499a6d643dafd7c5cc498a    delivered  2017-05-25 23:22:43 UTC  2017-05-25 23:30:16 UTC                          NaN              1  30b5b5635a79548a48d04162d971848f  f9bbdd976532d50b7816d285a22bd01e  358.0          30.00      SEK        sports_leisure                 43.0                      1873.0                 2.0             900.0               26.0               26.0              26.0\n",
              "152646  2aa91108853cecb43c84a5dc5b277475  afeb16c7f46396c0ed54acb45ccaaa40    delivered  2017-09-29 08:52:58 UTC  2017-09-29 09:07:16 UTC                          NaN              1  44c2baf621113fa7ac95fa06b4afbc68  3f2af2670e104d1bcb54022274daeac5  358.0          29.96      SEK       furniture_decor                 54.0                       984.0                 2.0            7000.0               16.0               50.0              55.0"
            ]
          },
          "metadata": {
            "tags": []
          },
          "execution_count": 289
        }
      ]
    },
    {
      "cell_type": "markdown",
      "metadata": {
        "id": "Enj8VrhA3-Ko"
      },
      "source": [
        "### Cleaning order dataframe - price outliers"
      ]
    },
    {
      "cell_type": "code",
      "metadata": {
        "colab": {
          "base_uri": "https://localhost:8080/"
        },
        "id": "_leY9a_mHEjG",
        "outputId": "df493ee8-b4c0-44f3-fc1c-ec1c59f3ac02"
      },
      "source": [
        "filt = order['price'] > 1000000\n",
        "#Unlikely that these products truly cost that much, most likely an input error\n",
        "outliers = order.loc[filt]\n",
        "print(outliers)\n",
        "#order2 is cleaned dataframe (ie. the outliers have been removed)\n",
        "order2 = order.loc[~filt]"
      ],
      "execution_count": null,
      "outputs": [
        {
          "output_type": "stream",
          "text": [
            "                                    order_id                       customer_id order_status order_purchase_timestamp        order_approved_at order_delivered_carrier_date  order_item_id                        product_id                         seller_id         price  freight_value currency product_category_name  product_name_lenght  product_description_lenght  product_photos_qty  product_weight_g  product_length_cm  product_height_cm  product_width_cm\n",
            "3521    3eefb38d-647c-4b7c-a4dd-54e75f18608f  3beec086fc157dbb92da88d3eb62dd4a    delivered  2018-01-31 07:56:18 UTC  2018-01-31 13:31:38 UTC      2018-02-01 20:22:14 UTC              1  b99e4f4fa3f421e0ffbd512d9f152dec  128639473a139ac0f3e5f5ade55873a5  1.039200e+11   5.990000e+09      SEK           electronics                 52.0                       240.0                 1.0            1050.0               22.0                9.0              12.0\n",
            "18624   97c67dc6-7df7-4edd-ac9a-de8bd531edca  ae4ae3a9b1fc1118d3b7713846af7ce1    delivered  2018-03-30 16:20:22 UTC  2018-03-31 16:15:18 UTC      2018-04-03 22:59:37 UTC              1  094d192d5b25e0bae4c3e2f970a53439  76d5af76d0271110f9af36c92573f765  3.920000e+11   1.599000e+10      SEK        sports_leisure                 57.0                       464.0                 3.0             800.0               20.0               20.0              20.0\n",
            "54773       319d08221500b0aec75b91e63101329d  631c90faa88b1f2e61a640df5ccf5ab5    delivered  2017-09-26 23:50:03 UTC  2017-09-27 00:04:45 UTC      2017-09-27 21:30:05 UTC              1  241241093bd6986615756b4d8a01de8f  43f8c9950d11ecd03a0304a49e010da6  3.500000e+08   3.500000e+08      SEK        consoles_games                 41.0                      1292.0                 1.0             200.0               20.0                3.0              18.0\n",
            "78110       7a94606a015a9feffa3b4ac23e84d132  3beec086fc157dbb92da88d3eb62dd4a    delivered  2018-01-31 07:56:18 UTC  2018-01-31 13:31:38 UTC      2018-02-01 20:22:14 UTC              1  b99e4f4fa3f421e0ffbd512d9f152dec  128639473a139ac0f3e5f5ade55873a5  1.299000e+10   5.990000e+09      SEK           electronics                 52.0                       240.0                 1.0            1050.0               22.0                9.0              12.0\n",
            "131579      b85f9848a67767d36a4c39d1237b471a  ae4ae3a9b1fc1118d3b7713846af7ce1    delivered  2018-03-30 16:20:22 UTC  2018-03-31 16:15:18 UTC      2018-04-03 22:59:37 UTC              1  094d192d5b25e0bae4c3e2f970a53439  76d5af76d0271110f9af36c92573f765  4.900000e+10   1.599000e+10      SEK        sports_leisure                 57.0                       464.0                 3.0             800.0               20.0               20.0              20.0\n"
          ],
          "name": "stdout"
        }
      ]
    },
    {
      "cell_type": "code",
      "metadata": {
        "colab": {
          "base_uri": "https://localhost:8080/",
          "height": 297
        },
        "id": "BL5zbpGdMHzz",
        "outputId": "ab9353f1-e65b-47a3-b133-c0e4b93acdea"
      },
      "source": [
        "order2.describe()"
      ],
      "execution_count": null,
      "outputs": [
        {
          "output_type": "execute_result",
          "data": {
            "text/html": [
              "<div>\n",
              "<style scoped>\n",
              "    .dataframe tbody tr th:only-of-type {\n",
              "        vertical-align: middle;\n",
              "    }\n",
              "\n",
              "    .dataframe tbody tr th {\n",
              "        vertical-align: top;\n",
              "    }\n",
              "\n",
              "    .dataframe thead th {\n",
              "        text-align: right;\n",
              "    }\n",
              "</style>\n",
              "<table border=\"1\" class=\"dataframe\">\n",
              "  <thead>\n",
              "    <tr style=\"text-align: right;\">\n",
              "      <th></th>\n",
              "      <th>order_item_id</th>\n",
              "      <th>price</th>\n",
              "      <th>freight_value</th>\n",
              "      <th>product_name_lenght</th>\n",
              "      <th>product_description_lenght</th>\n",
              "      <th>product_photos_qty</th>\n",
              "      <th>product_weight_g</th>\n",
              "      <th>product_length_cm</th>\n",
              "      <th>product_height_cm</th>\n",
              "      <th>product_width_cm</th>\n",
              "    </tr>\n",
              "  </thead>\n",
              "  <tbody>\n",
              "    <tr>\n",
              "      <th>count</th>\n",
              "      <td>152046.000000</td>\n",
              "      <td>152046.000000</td>\n",
              "      <td>152046.000000</td>\n",
              "      <td>149878.000000</td>\n",
              "      <td>149878.000000</td>\n",
              "      <td>149878.000000</td>\n",
              "      <td>152028.000000</td>\n",
              "      <td>152028.000000</td>\n",
              "      <td>152028.000000</td>\n",
              "      <td>152028.000000</td>\n",
              "    </tr>\n",
              "    <tr>\n",
              "      <th>mean</th>\n",
              "      <td>1.200038</td>\n",
              "      <td>677.934910</td>\n",
              "      <td>39.839027</td>\n",
              "      <td>48.809318</td>\n",
              "      <td>792.169344</td>\n",
              "      <td>2.206862</td>\n",
              "      <td>2097.431361</td>\n",
              "      <td>30.093496</td>\n",
              "      <td>16.566231</td>\n",
              "      <td>22.872155</td>\n",
              "    </tr>\n",
              "    <tr>\n",
              "      <th>std</th>\n",
              "      <td>0.710856</td>\n",
              "      <td>1624.602063</td>\n",
              "      <td>31.507833</td>\n",
              "      <td>9.980088</td>\n",
              "      <td>653.053427</td>\n",
              "      <td>1.729548</td>\n",
              "      <td>3742.233823</td>\n",
              "      <td>16.254418</td>\n",
              "      <td>13.455542</td>\n",
              "      <td>11.651305</td>\n",
              "    </tr>\n",
              "    <tr>\n",
              "      <th>min</th>\n",
              "      <td>1.000000</td>\n",
              "      <td>1.700000</td>\n",
              "      <td>0.000000</td>\n",
              "      <td>5.000000</td>\n",
              "      <td>4.000000</td>\n",
              "      <td>1.000000</td>\n",
              "      <td>0.000000</td>\n",
              "      <td>7.000000</td>\n",
              "      <td>2.000000</td>\n",
              "      <td>6.000000</td>\n",
              "    </tr>\n",
              "    <tr>\n",
              "      <th>25%</th>\n",
              "      <td>1.000000</td>\n",
              "      <td>99.800000</td>\n",
              "      <td>25.980000</td>\n",
              "      <td>42.000000</td>\n",
              "      <td>348.000000</td>\n",
              "      <td>1.000000</td>\n",
              "      <td>300.000000</td>\n",
              "      <td>18.000000</td>\n",
              "      <td>8.000000</td>\n",
              "      <td>15.000000</td>\n",
              "    </tr>\n",
              "    <tr>\n",
              "      <th>50%</th>\n",
              "      <td>1.000000</td>\n",
              "      <td>219.800000</td>\n",
              "      <td>32.580000</td>\n",
              "      <td>52.000000</td>\n",
              "      <td>608.000000</td>\n",
              "      <td>1.000000</td>\n",
              "      <td>675.000000</td>\n",
              "      <td>25.000000</td>\n",
              "      <td>13.000000</td>\n",
              "      <td>20.000000</td>\n",
              "    </tr>\n",
              "    <tr>\n",
              "      <th>75%</th>\n",
              "      <td>1.000000</td>\n",
              "      <td>599.980000</td>\n",
              "      <td>42.300000</td>\n",
              "      <td>57.000000</td>\n",
              "      <td>990.000000</td>\n",
              "      <td>3.000000</td>\n",
              "      <td>1800.000000</td>\n",
              "      <td>38.000000</td>\n",
              "      <td>20.000000</td>\n",
              "      <td>30.000000</td>\n",
              "    </tr>\n",
              "    <tr>\n",
              "      <th>max</th>\n",
              "      <td>21.000000</td>\n",
              "      <td>65599.840000</td>\n",
              "      <td>819.360000</td>\n",
              "      <td>76.000000</td>\n",
              "      <td>3992.000000</td>\n",
              "      <td>20.000000</td>\n",
              "      <td>40425.000000</td>\n",
              "      <td>105.000000</td>\n",
              "      <td>105.000000</td>\n",
              "      <td>118.000000</td>\n",
              "    </tr>\n",
              "  </tbody>\n",
              "</table>\n",
              "</div>"
            ],
            "text/plain": [
              "       order_item_id          price  freight_value  product_name_lenght  product_description_lenght  product_photos_qty  product_weight_g  product_length_cm  product_height_cm  product_width_cm\n",
              "count  152046.000000  152046.000000  152046.000000        149878.000000               149878.000000       149878.000000     152028.000000      152028.000000      152028.000000     152028.000000\n",
              "mean        1.200038     677.934910      39.839027            48.809318                  792.169344            2.206862       2097.431361          30.093496          16.566231         22.872155\n",
              "std         0.710856    1624.602063      31.507833             9.980088                  653.053427            1.729548       3742.233823          16.254418          13.455542         11.651305\n",
              "min         1.000000       1.700000       0.000000             5.000000                    4.000000            1.000000          0.000000           7.000000           2.000000          6.000000\n",
              "25%         1.000000      99.800000      25.980000            42.000000                  348.000000            1.000000        300.000000          18.000000           8.000000         15.000000\n",
              "50%         1.000000     219.800000      32.580000            52.000000                  608.000000            1.000000        675.000000          25.000000          13.000000         20.000000\n",
              "75%         1.000000     599.980000      42.300000            57.000000                  990.000000            3.000000       1800.000000          38.000000          20.000000         30.000000\n",
              "max        21.000000   65599.840000     819.360000            76.000000                 3992.000000           20.000000      40425.000000         105.000000         105.000000        118.000000"
            ]
          },
          "metadata": {
            "tags": []
          },
          "execution_count": 241
        }
      ]
    },
    {
      "cell_type": "markdown",
      "metadata": {
        "id": "UtojC93_KhHi"
      },
      "source": [
        "### Cleaning payment dataframe - payment value outliers"
      ]
    },
    {
      "cell_type": "code",
      "metadata": {
        "colab": {
          "base_uri": "https://localhost:8080/"
        },
        "id": "8YTZ-f2MKoCV",
        "outputId": "a4241dd0-e118-4a5a-d28b-3a9357fdc0ac"
      },
      "source": [
        "print(payment.max())\n",
        "filt2 = payment['payment_value'] > 1000000\n",
        "outliers_payments = payment.loc[filt2]\n",
        "print(outliers_payments)\n",
        "payment2 = payment[~filt2]"
      ],
      "execution_count": null,
      "outputs": [
        {
          "output_type": "stream",
          "text": [
            "order_id          ffff668f-18f0-4f3b-ba41-bd07568740ab\n",
            "payment_value                               4.0799e+11\n",
            "currency                                           SEK\n",
            "payment_types                                       22\n",
            "payment_method                                 voucher\n",
            "dtype: object\n",
            "                                  order_id  payment_value currency  payment_types payment_method\n",
            "6166  97c67dc6-7df7-4edd-ac9a-de8bd531edca   4.079900e+11      SEK              1         klarna\n",
            "6167  3eefb38d-647c-4b7c-a4dd-54e75f18608f   1.099100e+11      SEK              1         klarna\n"
          ],
          "name": "stdout"
        }
      ]
    },
    {
      "cell_type": "code",
      "metadata": {
        "colab": {
          "base_uri": "https://localhost:8080/",
          "height": 297
        },
        "id": "8Naa5IZuNTBE",
        "outputId": "b5945fcd-5b32-4317-b250-7b1832d7cc72"
      },
      "source": [
        "payment2.describe()"
      ],
      "execution_count": null,
      "outputs": [
        {
          "output_type": "execute_result",
          "data": {
            "text/html": [
              "<div>\n",
              "<style scoped>\n",
              "    .dataframe tbody tr th:only-of-type {\n",
              "        vertical-align: middle;\n",
              "    }\n",
              "\n",
              "    .dataframe tbody tr th {\n",
              "        vertical-align: top;\n",
              "    }\n",
              "\n",
              "    .dataframe thead th {\n",
              "        text-align: right;\n",
              "    }\n",
              "</style>\n",
              "<table border=\"1\" class=\"dataframe\">\n",
              "  <thead>\n",
              "    <tr style=\"text-align: right;\">\n",
              "      <th></th>\n",
              "      <th>payment_value</th>\n",
              "      <th>payment_types</th>\n",
              "    </tr>\n",
              "  </thead>\n",
              "  <tbody>\n",
              "    <tr>\n",
              "      <th>count</th>\n",
              "      <td>56025.000000</td>\n",
              "      <td>56025.000000</td>\n",
              "    </tr>\n",
              "    <tr>\n",
              "      <th>mean</th>\n",
              "      <td>1474.495800</td>\n",
              "      <td>1.046801</td>\n",
              "    </tr>\n",
              "    <tr>\n",
              "      <th>std</th>\n",
              "      <td>2471.993002</td>\n",
              "      <td>0.439209</td>\n",
              "    </tr>\n",
              "    <tr>\n",
              "      <th>min</th>\n",
              "      <td>0.000000</td>\n",
              "      <td>1.000000</td>\n",
              "    </tr>\n",
              "    <tr>\n",
              "      <th>25%</th>\n",
              "      <td>322.860000</td>\n",
              "      <td>1.000000</td>\n",
              "    </tr>\n",
              "    <tr>\n",
              "      <th>50%</th>\n",
              "      <td>825.140000</td>\n",
              "      <td>1.000000</td>\n",
              "    </tr>\n",
              "    <tr>\n",
              "      <th>75%</th>\n",
              "      <td>1777.760000</td>\n",
              "      <td>1.000000</td>\n",
              "    </tr>\n",
              "    <tr>\n",
              "      <th>max</th>\n",
              "      <td>65750.380000</td>\n",
              "      <td>22.000000</td>\n",
              "    </tr>\n",
              "  </tbody>\n",
              "</table>\n",
              "</div>"
            ],
            "text/plain": [
              "       payment_value  payment_types\n",
              "count   56025.000000   56025.000000\n",
              "mean     1474.495800       1.046801\n",
              "std      2471.993002       0.439209\n",
              "min         0.000000       1.000000\n",
              "25%       322.860000       1.000000\n",
              "50%       825.140000       1.000000\n",
              "75%      1777.760000       1.000000\n",
              "max     65750.380000      22.000000"
            ]
          },
          "metadata": {
            "tags": []
          },
          "execution_count": 292
        }
      ]
    },
    {
      "cell_type": "code",
      "metadata": {
        "colab": {
          "base_uri": "https://localhost:8080/",
          "height": 187
        },
        "id": "on_SGxVMiTD_",
        "outputId": "e9b2bafe-4d25-4ae6-f913-6888032bd682"
      },
      "source": [
        "print(order2[order2[\"order_id\"] == \"ffff668f-18f0-4f3b-ba41-bd07568740ab\"])\n",
        "order2[order2['price'] == 65599.84]\n"
      ],
      "execution_count": null,
      "outputs": [
        {
          "output_type": "stream",
          "text": [
            "                                   order_id                       customer_id order_status order_purchase_timestamp        order_approved_at order_delivered_carrier_date  order_item_id                        product_id                         seller_id   price  freight_value currency product_category_name  product_name_lenght  product_description_lenght  product_photos_qty  product_weight_g  product_length_cm  product_height_cm  product_width_cm\n",
            "17840  ffff668f-18f0-4f3b-ba41-bd07568740ab  d43dca5b6e770255a2c53f2b6520be4c    delivered  2018-03-10 20:35:00 UTC  2018-03-10 21:08:09 UTC      2018-03-12 21:48:18 UTC              1  f9182a0ca4e95b38186deff41198a333  71039d19d4303bf9054d69e9a9236699  1758.4          44.96      SEK            cool_stuff                 51.0                      1634.0                 5.0            2900.0               50.0               20.0              20.0\n"
          ],
          "name": "stdout"
        },
        {
          "output_type": "execute_result",
          "data": {
            "text/html": [
              "<div>\n",
              "<style scoped>\n",
              "    .dataframe tbody tr th:only-of-type {\n",
              "        vertical-align: middle;\n",
              "    }\n",
              "\n",
              "    .dataframe tbody tr th {\n",
              "        vertical-align: top;\n",
              "    }\n",
              "\n",
              "    .dataframe thead th {\n",
              "        text-align: right;\n",
              "    }\n",
              "</style>\n",
              "<table border=\"1\" class=\"dataframe\">\n",
              "  <thead>\n",
              "    <tr style=\"text-align: right;\">\n",
              "      <th></th>\n",
              "      <th>order_id</th>\n",
              "      <th>customer_id</th>\n",
              "      <th>order_status</th>\n",
              "      <th>order_purchase_timestamp</th>\n",
              "      <th>order_approved_at</th>\n",
              "      <th>order_delivered_carrier_date</th>\n",
              "      <th>order_item_id</th>\n",
              "      <th>product_id</th>\n",
              "      <th>seller_id</th>\n",
              "      <th>price</th>\n",
              "      <th>freight_value</th>\n",
              "      <th>currency</th>\n",
              "      <th>product_category_name</th>\n",
              "      <th>product_name_lenght</th>\n",
              "      <th>product_description_lenght</th>\n",
              "      <th>product_photos_qty</th>\n",
              "      <th>product_weight_g</th>\n",
              "      <th>product_length_cm</th>\n",
              "      <th>product_height_cm</th>\n",
              "      <th>product_width_cm</th>\n",
              "    </tr>\n",
              "  </thead>\n",
              "  <tbody>\n",
              "    <tr>\n",
              "      <th>37337</th>\n",
              "      <td>42268f81-ae78-4af0-be79-f7a666517223</td>\n",
              "      <td>35a413c7ca3c69756cb75867d6311c0d</td>\n",
              "      <td>delivered</td>\n",
              "      <td>2018-03-29 10:31:29 UTC</td>\n",
              "      <td>2018-03-31 08:27:27 UTC</td>\n",
              "      <td>2018-04-04 23:26:45 UTC</td>\n",
              "      <td>1</td>\n",
              "      <td>6cdf8fc1d741c76586d8b6b15e9eef30</td>\n",
              "      <td>ed4acab38528488b65a9a9c603ff024a</td>\n",
              "      <td>65599.84</td>\n",
              "      <td>150.54</td>\n",
              "      <td>SEK</td>\n",
              "      <td>consoles_games</td>\n",
              "      <td>59.0</td>\n",
              "      <td>3172.0</td>\n",
              "      <td>1.0</td>\n",
              "      <td>3050.0</td>\n",
              "      <td>34.0</td>\n",
              "      <td>10.0</td>\n",
              "      <td>22.0</td>\n",
              "    </tr>\n",
              "  </tbody>\n",
              "</table>\n",
              "</div>"
            ],
            "text/plain": [
              "                                   order_id                       customer_id order_status order_purchase_timestamp        order_approved_at order_delivered_carrier_date  order_item_id                        product_id                         seller_id     price  freight_value currency product_category_name  product_name_lenght  product_description_lenght  product_photos_qty  product_weight_g  product_length_cm  product_height_cm  product_width_cm\n",
              "37337  42268f81-ae78-4af0-be79-f7a666517223  35a413c7ca3c69756cb75867d6311c0d    delivered  2018-03-29 10:31:29 UTC  2018-03-31 08:27:27 UTC      2018-04-04 23:26:45 UTC              1  6cdf8fc1d741c76586d8b6b15e9eef30  ed4acab38528488b65a9a9c603ff024a  65599.84         150.54      SEK        consoles_games                 59.0                      3172.0                 1.0            3050.0               34.0               10.0              22.0"
            ]
          },
          "metadata": {
            "tags": []
          },
          "execution_count": 293
        }
      ]
    },
    {
      "cell_type": "markdown",
      "metadata": {
        "id": "qUq3nSdplRyz"
      },
      "source": [
        "# What are the top product categories most commonly purchased by first-time customers?"
      ]
    },
    {
      "cell_type": "code",
      "metadata": {
        "id": "aImUE3Gklt6H"
      },
      "source": [
        "order3 = order2.sort_values(by=['order_purchase_timestamp'], ascending=True)"
      ],
      "execution_count": null,
      "outputs": []
    },
    {
      "cell_type": "code",
      "metadata": {
        "colab": {
          "base_uri": "https://localhost:8080/"
        },
        "id": "vUifyARWtYh6",
        "outputId": "658ebf03-880c-4fdd-e9bb-2d95ca93dc21"
      },
      "source": [
        "order3['customer_id'].value_counts()"
      ],
      "execution_count": null,
      "outputs": [
        {
          "output_type": "execute_result",
          "data": {
            "text/plain": [
              "be1b70680b9f9694d8c70f41fa3dc92b    40\n",
              "a7693fba2ff9583c78751f2b66ecab9d    28\n",
              "7d321bd4e8ba1caf74c4c1aabd9ae524    26\n",
              "3b54b5978e9ace64a63f90d176ffb158    24\n",
              "daf15f1b940cc6a72ba558f093dc00dd    24\n",
              "                                    ..\n",
              "67f17583aa3d40a008f98ff8abc14069     1\n",
              "614a669b833b9fa788c043f854607611     1\n",
              "c731d7800196ad88a5cbbd3ca5624388     1\n",
              "97be631d09715d48d5fdc90d8bdc8d9f     1\n",
              "554d280c6ca30e9c4b2dba7bf368ef53     1\n",
              "Name: customer_id, Length: 98197, dtype: int64"
            ]
          },
          "metadata": {
            "tags": []
          },
          "execution_count": 308
        }
      ]
    },
    {
      "cell_type": "code",
      "metadata": {
        "colab": {
          "base_uri": "https://localhost:8080/"
        },
        "id": "p5prU2bIsTsU",
        "outputId": "dd1ca3d7-cc3f-4ce5-cd38-d07d5b2adc84"
      },
      "source": [
        "order4 = order3.drop_duplicates('customer_id', keep='first')\n",
        "order4['customer_id'].value_counts()"
      ],
      "execution_count": null,
      "outputs": [
        {
          "output_type": "execute_result",
          "data": {
            "text/plain": [
              "0125fdf9e257f064725f85d1d63085b4    1\n",
              "6c5672e9f126645b47e64e7f3e8a2d4b    1\n",
              "9ba926ad01e17e9a308791ae9cb69699    1\n",
              "52948975a1c8e2ec193e83fba7d4d091    1\n",
              "fc969cccd424bdf1a70bd6eb204c4984    1\n",
              "                                   ..\n",
              "ee0dd94cfd30e67ecbf17bf236f47c1b    1\n",
              "3db7d750dec6af04aa58c535060dc154    1\n",
              "e26a202ecc04e2938f2a72d2703bc503    1\n",
              "01fa00e0304cfe9ec92334b323841744    1\n",
              "921681820f5576cab1551e570e6dc62d    1\n",
              "Name: customer_id, Length: 98197, dtype: int64"
            ]
          },
          "metadata": {
            "tags": []
          },
          "execution_count": 309
        }
      ]
    },
    {
      "cell_type": "markdown",
      "metadata": {
        "id": "lDHgiyQx7BLa"
      },
      "source": [
        "## For all first-time customers:"
      ]
    },
    {
      "cell_type": "code",
      "metadata": {
        "colab": {
          "base_uri": "https://localhost:8080/"
        },
        "id": "IUuKrD95tXV8",
        "outputId": "3999832b-caf9-4a06-febc-40de3ff1d052"
      },
      "source": [
        "order4['product_category_name'].value_counts()"
      ],
      "execution_count": null,
      "outputs": [
        {
          "output_type": "execute_result",
          "data": {
            "text/plain": [
              "bed_bath_table                             9305\n",
              "health_beauty                              8763\n",
              "sports_leisure                             7648\n",
              "computers_accessories                      6626\n",
              "furniture_decor                            6323\n",
              "housewares                                 5782\n",
              "watches_gifts                              5582\n",
              "telephony                                  4169\n",
              "auto                                       3858\n",
              "toys                                       3833\n",
              "cool_stuff                                 3593\n",
              "garden_tools                               3463\n",
              "perfumery                                  3132\n",
              "baby                                       2815\n",
              "electronics                                2532\n",
              "stationery                                 2280\n",
              "fashion_bags_accessories                   1848\n",
              "pet_shop                                   1700\n",
              "office_furniture                           1265\n",
              "consoles_games                             1048\n",
              "luggage_accessories                        1020\n",
              "home_appliances                             762\n",
              "construction_tools_construction             738\n",
              "musical_instruments                         618\n",
              "small_appliances                            617\n",
              "books_general_interest                      503\n",
              "home_construction                           473\n",
              "food                                        443\n",
              "furniture_living_room                       414\n",
              "home_confort                                365\n",
              "audio                                       347\n",
              "drinks                                      294\n",
              "market_place                                275\n",
              "books_technical                             256\n",
              "air_conditioning                            251\n",
              "kitchen_dining_laundry_garden_furniture     242\n",
              "fashion_shoes                               237\n",
              "construction_tools_lights                   234\n",
              "industry_commerce_and_business              231\n",
              "home_appliances_2                           230\n",
              "food_drink                                  223\n",
              "fixed_telephony                             212\n",
              "art                                         197\n",
              "costruction_tools_garden                    187\n",
              "agro_industry_and_commerce                  182\n",
              "computers                                   181\n",
              "construction_tools_safety                   161\n",
              "signaling_and_security                      139\n",
              "christmas_supplies                          127\n",
              "fashion_underwear_beach                     121\n",
              "fashion_male_clothing                       110\n",
              "costruction_tools_tools                      97\n",
              "furniture_bedroom                            94\n",
              "tablets_printing_image                       78\n",
              "small_appliances_home_oven_and_coffee        75\n",
              "cine_photo                                   63\n",
              "dvds_blu_ray                                 56\n",
              "books_imported                               52\n",
              "fashio_female_clothing                       38\n",
              "music                                        38\n",
              "furniture_mattress_and_upholstery            38\n",
              "party_supplies                               38\n",
              "flowers                                      28\n",
              "fashion_sport                                27\n",
              "diapers_and_hygiene                          26\n",
              "home_comfort_2                               22\n",
              "arts_and_craftmanship                        21\n",
              "cds_dvds_musicals                            12\n",
              "la_cuisine                                   12\n",
              "fashion_childrens_clothes                     7\n",
              "security_and_services                         2\n",
              "Name: product_category_name, dtype: int64"
            ]
          },
          "metadata": {
            "tags": []
          },
          "execution_count": 310
        }
      ]
    },
    {
      "cell_type": "markdown",
      "metadata": {
        "id": "TgzTYp0u9aR3"
      },
      "source": [
        "## For first-time customers that have known payment (those that are in the payment dataframe):"
      ]
    },
    {
      "cell_type": "code",
      "metadata": {
        "colab": {
          "base_uri": "https://localhost:8080/"
        },
        "id": "HpaqRmXT9ZYY",
        "outputId": "788b0532-f826-459a-95e2-5ff8da59a6d8"
      },
      "source": [
        "paid_order = payment2.merge(order4, how='inner', left_on='order_id', right_on='order_id')\n",
        "#print(paid_order.info())\n",
        "#print(paid_order['order_status'].value_counts())\n",
        "paid_order['product_category_name'].value_counts()"
      ],
      "execution_count": null,
      "outputs": [
        {
          "output_type": "execute_result",
          "data": {
            "text/plain": [
              "bed_bath_table                             2800\n",
              "health_beauty                              2577\n",
              "sports_leisure                             2371\n",
              "computers_accessories                      2341\n",
              "furniture_decor                            1893\n",
              "watches_gifts                              1786\n",
              "housewares                                 1760\n",
              "garden_tools                               1275\n",
              "auto                                       1223\n",
              "telephony                                  1189\n",
              "electronics                                1059\n",
              "cool_stuff                                 1035\n",
              "toys                                        973\n",
              "baby                                        906\n",
              "perfumery                                   845\n",
              "stationery                                  797\n",
              "fashion_bags_accessories                    569\n",
              "pet_shop                                    553\n",
              "office_furniture                            384\n",
              "consoles_games                              315\n",
              "luggage_accessories                         279\n",
              "home_appliances                             250\n",
              "construction_tools_construction             247\n",
              "musical_instruments                         211\n",
              "small_appliances                            181\n",
              "home_construction                           155\n",
              "books_general_interest                      154\n",
              "food                                        126\n",
              "audio                                       123\n",
              "books_technical                              96\n",
              "furniture_living_room                        95\n",
              "home_confort                                 92\n",
              "industry_commerce_and_business               86\n",
              "drinks                                       84\n",
              "art                                          80\n",
              "kitchen_dining_laundry_garden_furniture      78\n",
              "air_conditioning                             77\n",
              "home_appliances_2                            77\n",
              "fashion_shoes                                76\n",
              "market_place                                 75\n",
              "food_drink                                   70\n",
              "construction_tools_lights                    62\n",
              "costruction_tools_garden                     62\n",
              "agro_industry_and_commerce                   58\n",
              "construction_tools_safety                    53\n",
              "fashion_underwear_beach                      45\n",
              "fixed_telephony                              44\n",
              "signaling_and_security                       41\n",
              "computers                                    41\n",
              "christmas_supplies                           35\n",
              "costruction_tools_tools                      31\n",
              "furniture_bedroom                            30\n",
              "cine_photo                                   24\n",
              "fashion_male_clothing                        24\n",
              "small_appliances_home_oven_and_coffee        22\n",
              "dvds_blu_ray                                 21\n",
              "books_imported                               18\n",
              "tablets_printing_image                       17\n",
              "furniture_mattress_and_upholstery            14\n",
              "flowers                                      13\n",
              "home_comfort_2                               12\n",
              "music                                        11\n",
              "party_supplies                               10\n",
              "fashio_female_clothing                        9\n",
              "diapers_and_hygiene                           8\n",
              "fashion_sport                                 6\n",
              "arts_and_craftmanship                         5\n",
              "la_cuisine                                    3\n",
              "fashion_childrens_clothes                     1\n",
              "Name: product_category_name, dtype: int64"
            ]
          },
          "metadata": {
            "tags": []
          },
          "execution_count": 304
        }
      ]
    },
    {
      "cell_type": "markdown",
      "metadata": {
        "id": "P0bh-uCM7LO0"
      },
      "source": [
        "## For known first-time customers (those that are in the customers dataframe):"
      ]
    },
    {
      "cell_type": "code",
      "metadata": {
        "colab": {
          "base_uri": "https://localhost:8080/"
        },
        "id": "wYU-pSVyvV8C",
        "outputId": "6549b326-8b53-46f6-82d9-6ebdc5cc999b"
      },
      "source": [
        "known_customer_order = customer.merge(order4, how='inner', left_on='customer_id', right_on='customer_id')\n",
        "#print(known_customer_order.info())\n",
        "#print(known_customer_order['order_status'].value_counts())\n",
        "known_customer_order['product_category_name'].value_counts()"
      ],
      "execution_count": null,
      "outputs": [
        {
          "output_type": "execute_result",
          "data": {
            "text/plain": [
              "bed_bath_table                             1681\n",
              "health_beauty                              1408\n",
              "sports_leisure                             1235\n",
              "housewares                                 1039\n",
              "furniture_decor                            1033\n",
              "computers_accessories                      1027\n",
              "watches_gifts                               895\n",
              "toys                                        665\n",
              "telephony                                   536\n",
              "garden_tools                                507\n",
              "cool_stuff                                  496\n",
              "perfumery                                   486\n",
              "auto                                        475\n",
              "electronics                                 425\n",
              "baby                                        425\n",
              "stationery                                  361\n",
              "fashion_bags_accessories                    260\n",
              "pet_shop                                    259\n",
              "office_furniture                            244\n",
              "consoles_games                              175\n",
              "luggage_accessories                         139\n",
              "construction_tools_construction             118\n",
              "home_appliances                             117\n",
              "small_appliances                             97\n",
              "musical_instruments                          94\n",
              "furniture_living_room                        94\n",
              "food                                         80\n",
              "books_general_interest                       69\n",
              "drinks                                       68\n",
              "audio                                        65\n",
              "home_construction                            61\n",
              "air_conditioning                             60\n",
              "kitchen_dining_laundry_garden_furniture      60\n",
              "food_drink                                   59\n",
              "home_confort                                 59\n",
              "home_appliances_2                            50\n",
              "market_place                                 41\n",
              "books_technical                              41\n",
              "art                                          39\n",
              "fixed_telephony                              38\n",
              "agro_industry_and_commerce                   37\n",
              "signaling_and_security                       34\n",
              "construction_tools_lights                    29\n",
              "industry_commerce_and_business               29\n",
              "costruction_tools_garden                     29\n",
              "furniture_bedroom                            27\n",
              "fashion_shoes                                21\n",
              "computers                                    20\n",
              "construction_tools_safety                    20\n",
              "small_appliances_home_oven_and_coffee        19\n",
              "fashion_underwear_beach                      17\n",
              "fashion_male_clothing                        17\n",
              "cine_photo                                   16\n",
              "books_imported                               14\n",
              "dvds_blu_ray                                 14\n",
              "tablets_printing_image                       13\n",
              "costruction_tools_tools                      12\n",
              "furniture_mattress_and_upholstery            11\n",
              "christmas_supplies                           11\n",
              "party_supplies                                8\n",
              "music                                         6\n",
              "fashio_female_clothing                        6\n",
              "diapers_and_hygiene                           6\n",
              "flowers                                       5\n",
              "home_comfort_2                                5\n",
              "cds_dvds_musicals                             4\n",
              "fashion_childrens_clothes                     3\n",
              "fashion_sport                                 2\n",
              "arts_and_craftmanship                         1\n",
              "la_cuisine                                    1\n",
              "Name: product_category_name, dtype: int64"
            ]
          },
          "metadata": {
            "tags": []
          },
          "execution_count": 305
        }
      ]
    },
    {
      "cell_type": "markdown",
      "metadata": {
        "id": "leRwj-w2lpPY"
      },
      "source": [
        "# How large is the segment of customers with an average payment value over 200 SEK?"
      ]
    },
    {
      "cell_type": "markdown",
      "metadata": {
        "id": "_cOaOx6fIaJl"
      },
      "source": [
        "## Route 1 - estimating payment based on price and freight value, and based soley on orders dataset:"
      ]
    },
    {
      "cell_type": "code",
      "metadata": {
        "colab": {
          "base_uri": "https://localhost:8080/"
        },
        "id": "Bp6JodIO8euz",
        "outputId": "5bec2d74-457a-42e3-b93a-ecb1a5d23896"
      },
      "source": [
        "order2['payment_estimate'] = order['price'] + order['freight_value']\n",
        "order2.info()"
      ],
      "execution_count": null,
      "outputs": [
        {
          "output_type": "stream",
          "text": [
            "<class 'pandas.core.frame.DataFrame'>\n",
            "Int64Index: 152046 entries, 0 to 152776\n",
            "Data columns (total 22 columns):\n",
            " #   Column                        Non-Null Count   Dtype  \n",
            "---  ------                        --------------   -----  \n",
            " 0   order_id                      152046 non-null  object \n",
            " 1   customer_id                   152046 non-null  object \n",
            " 2   order_status                  152046 non-null  object \n",
            " 3   order_purchase_timestamp      152046 non-null  object \n",
            " 4   order_approved_at             152031 non-null  object \n",
            " 5   order_delivered_carrier_date  151166 non-null  object \n",
            " 6   order_item_id                 152046 non-null  int64  \n",
            " 7   product_id                    152046 non-null  object \n",
            " 8   seller_id                     152046 non-null  object \n",
            " 9   price                         152046 non-null  float64\n",
            " 10  freight_value                 152046 non-null  float64\n",
            " 11  currency                      152046 non-null  object \n",
            " 12  product_category_name         149853 non-null  object \n",
            " 13  product_name_lenght           149878 non-null  float64\n",
            " 14  product_description_lenght    149878 non-null  float64\n",
            " 15  product_photos_qty            149878 non-null  float64\n",
            " 16  product_weight_g              152028 non-null  float64\n",
            " 17  product_length_cm             152028 non-null  float64\n",
            " 18  product_height_cm             152028 non-null  float64\n",
            " 19  product_width_cm              152028 non-null  float64\n",
            " 20  pay_est                       152046 non-null  float64\n",
            " 21  payment_estimate              152046 non-null  float64\n",
            "dtypes: float64(11), int64(1), object(10)\n",
            "memory usage: 26.7+ MB\n"
          ],
          "name": "stdout"
        }
      ]
    },
    {
      "cell_type": "code",
      "metadata": {
        "colab": {
          "base_uri": "https://localhost:8080/"
        },
        "id": "9pwQ-RaYMaV2",
        "outputId": "42a2e0d7-1bbe-45a1-9fd1-8b897fcadc28"
      },
      "source": [
        "customer_id_groupings1 = order2.groupby(['customer_id']).mean()\n",
        "filte = customer_id_groupings1['payment_estimate'] > 200\n",
        "answer1 = len(customer_id_groupings1[filte])\n",
        "perc1 = round((answer1/len(customer_id_groupings1) * 100))\n",
        "print(f\"There are an estimate of {answer1} customers (about {perc1}%) with an average payment value over 200 SEK, based on solely the order dataframe.\")"
      ],
      "execution_count": null,
      "outputs": [
        {
          "output_type": "stream",
          "text": [
            "There are an estimate of 63011 customers (about 64%) with an average payment value over 200 SEK, based on solely the order dataframe.\n"
          ],
          "name": "stdout"
        }
      ]
    },
    {
      "cell_type": "markdown",
      "metadata": {
        "id": "EqdJjE7NPRal"
      },
      "source": [
        "## *Route 2 - answering the question directly, namely using the payment value field:"
      ]
    },
    {
      "cell_type": "code",
      "metadata": {
        "colab": {
          "base_uri": "https://localhost:8080/"
        },
        "id": "j8Md6FSUPVCM",
        "outputId": "a61a9efa-cb55-4fb7-9132-9eb0f0e3231c"
      },
      "source": [
        "#merge payment and order dataframes\n",
        "payment_order = payment2.merge(order2, how='inner', left_on='order_id', right_on='order_id')\n",
        "#group by customer id to get the customers average payments\n",
        "customer_id_groupings2 = payment_order.groupby(['customer_id']).mean()\n",
        "#create filter of payments over 200\n",
        "filte2 = customer_id_groupings2['payment_value'] > 200\n",
        "answer2 = len(customer_id_groupings2[filte2])\n",
        "perc2 = round((answer2/len(customer_id_groupings2) * 100))\n",
        "print(f\"There are {answer2} customers (about {perc2}%) with an average payment value over 200 SEK.\")"
      ],
      "execution_count": null,
      "outputs": [
        {
          "output_type": "stream",
          "text": [
            "There are 38509 customers (about 86%) with an average payment value over 200 SEK.\n"
          ],
          "name": "stdout"
        }
      ]
    },
    {
      "cell_type": "markdown",
      "metadata": {
        "id": "qYMnR7QeSZ4c"
      },
      "source": [
        "## Route 3 - similar to Route 2 but focused on only known customers, based on customers dataset:"
      ]
    },
    {
      "cell_type": "code",
      "metadata": {
        "colab": {
          "base_uri": "https://localhost:8080/"
        },
        "id": "Jpt66Lq0Sei6",
        "outputId": "d6a920a7-7ddd-4eaf-95bf-f1d6035c7b25"
      },
      "source": [
        "customer_payment_order = payment_order.merge(customer, how='inner', left_on='customer_id', right_on='customer_id')\n",
        "customer_id_groupings3 = customer_payment_order.groupby(['customer_id']).mean()\n",
        "filte3 = customer_id_groupings3['payment_value'] > 200\n",
        "answer3 = len(customer_id_groupings3[filte3])\n",
        "perc3 = round((answer3/len(customer_id_groupings3) * 100))\n",
        "print(f\"There are {answer3} known customers (about {perc3}%) with an average payment value over 200 SEK, based on all three dataframes.\")"
      ],
      "execution_count": null,
      "outputs": [
        {
          "output_type": "stream",
          "text": [
            "There are 6050 known customers (about 85%) with an average payment value over 200 SEK, based on all three dataframes.\n"
          ],
          "name": "stdout"
        }
      ]
    }
  ]
}